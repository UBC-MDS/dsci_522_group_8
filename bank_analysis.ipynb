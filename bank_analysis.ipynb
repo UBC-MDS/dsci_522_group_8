{
 "cells": [
  {
   "cell_type": "markdown",
   "id": "9d48e527-8f26-4fd7-854c-dcd4177c56f7",
   "metadata": {},
   "source": [
    "<h1> <center> Bank Marketing Analysis </center> </h1>"
   ]
  },
  {
   "cell_type": "markdown",
   "id": "7d925b92-d8fd-4fb3-8553-4810d94874ba",
   "metadata": {},
   "source": [
    "<h3> </center> Objective: </center> </h3> \n",
    "\n",
    "The data is related with direct marketing campaigns (phone calls) of a Portuguese banking institution. The classification goal is to predict if the client will subscribe a term deposit (variable y)."
   ]
  },
  {
   "cell_type": "markdown",
   "id": "728152f8-61fb-412a-b81b-8c3c55bbb128",
   "metadata": {},
   "source": [
    "**Repo Link:** https://github.com/UBC-MDS/dsci_522_group_8.git"
   ]
  },
  {
   "cell_type": "code",
   "execution_count": null,
   "id": "17b1f8ec-c7fc-4154-856c-b07788fc50f4",
   "metadata": {},
   "outputs": [],
   "source": [
    "## Install Necessary Packages\n",
    "#!pip install ucimlrepo"
   ]
  },
  {
   "cell_type": "code",
   "execution_count": null,
   "id": "c86a7598-c264-44e7-b70b-4495c8e01e10",
   "metadata": {},
   "outputs": [],
   "source": [
    "## Import\n",
    "#Necessary Packages\n",
    "import altair as alt\n",
    "import altair_viewer\n",
    "import pandas as pd\n",
    "import numpy as np\n",
    "import statistics\n",
    "\n",
    "\n",
    "#Data \n",
    "from ucimlrepo import fetch_ucirepo \n",
    "\n",
    "#Machine Learning\n",
    "from sklearn.model_selection import train_test_split\n",
    "from sklearn.preprocessing import StandardScaler\n",
    "from sklearn.impute import KNNImputer\n",
    "from sklearn.impute import SimpleImputer\n",
    "from sklearn.linear_model import LogisticRegression\n",
    "from sklearn.metrics import accuracy_score, classification_report, confusion_matrix"
   ]
  },
  {
   "cell_type": "code",
   "execution_count": null,
   "id": "0d9b26b4-525d-47b5-8835-5876b3bd899e",
   "metadata": {},
   "outputs": [],
   "source": [
    "# fetch dataset \n",
    "bank_marketing = fetch_ucirepo(id=222) \n",
    "  \n",
    "# data (as pd dataframes) \n",
    "X = bank_marketing.data.features \n",
    "y = bank_marketing.data.targets \n",
    "  \n",
    "# metadata \n",
    "#display(bank_marketing.metadata) \n",
    "  \n",
    "# variable information \n",
    "display(bank_marketing.variables) "
   ]
  },
  {
   "cell_type": "markdown",
   "id": "74062f80-190f-42fe-be38-130c6fd408f9",
   "metadata": {},
   "source": [
    "<h3> <center> Preparing the Dataset: </center> </h3>"
   ]
  },
  {
   "cell_type": "code",
   "execution_count": null,
   "id": "1674c94c-c081-4858-9bad-ed8bbc03d3ac",
   "metadata": {},
   "outputs": [],
   "source": [
    "df = X\n",
    "#Drop NA values\n",
    "df.dropna()\n",
    "\n",
    "#Imputing Missing using kNN Imputer, Simple Imputer\n",
    "knn_imp = KNNImputer(n_neighbors = 4)\n",
    "simple_imp = SimpleImputer(missing_values=np.nan, strategy=\"most_frequent\")\n",
    "df[\"poutcome\"] = simple_imp.fit_transform(df[[\"poutcome\"]]).ravel()\n",
    "df[\"contact\"] = simple_imp.fit_transform(df[[\"contact\"]]).ravel()\n",
    "df[\"pdays\"] = knn_imp.fit_transform(df[[\"pdays\"]]).ravel()\n",
    "\n",
    "#Drop some values (~288 of 45,000) that are hard to impute \n",
    "df = df.dropna()\n",
    "\n",
    "#Add target column\n",
    "df[\"target\"] = y"
   ]
  },
  {
   "cell_type": "markdown",
   "id": "7a6b703f-591e-47ab-8b29-422b6cf9ee4a",
   "metadata": {},
   "source": [
    "<h3> <center> Exploratory Data Analysis </center> </h3>"
   ]
  },
  {
   "cell_type": "code",
   "execution_count": null,
   "id": "0df7a848-1646-46ed-bdec-9bc385d857ac",
   "metadata": {},
   "outputs": [],
   "source": [
    "#Summary Statistics\n",
    "display(pd.DataFrame(df.describe()).T)\n",
    "colnames = df.columns.tolist()"
   ]
  },
  {
   "cell_type": "code",
   "execution_count": null,
   "id": "2c939cfe-8633-47f5-a539-0ca262de5f6f",
   "metadata": {},
   "outputs": [],
   "source": [
    "#Distribution\n",
    "numeric = [\"age\", \"balance\", \"day_of_week\", \"duration\", \"campaign\", \"pdays\", \"previous\"]\n",
    "\n",
    "charts = []\n",
    "\n",
    "# Create density plots for each numeric column\n",
    "for column in numeric:\n",
    "    chart = alt.Chart(df).transform_density(\n",
    "        column,\n",
    "        groupby=[\"target\"],  # Assuming \"target\" is a column in your DataFrame\n",
    "        as_=[column, \"density\"]\n",
    "    ).mark_area(opacity=0.5).encode(\n",
    "        x=alt.X(f\"{column}:Q\").scale(zero = False),\n",
    "        y=alt.Y(\"density:Q\").stack(False).scale(zero = False),\n",
    "        color=\"target\"\n",
    "    )\n",
    "    charts.append(chart)"
   ]
  },
  {
   "cell_type": "code",
   "execution_count": null,
   "id": "69c33ba4-84d3-42fa-80a4-b6d6dec92edc",
   "metadata": {},
   "outputs": [],
   "source": [
    "grid = alt.concat(*charts, columns=2)\n",
    "grid.show()"
   ]
  },
  {
   "cell_type": "code",
   "execution_count": null,
   "id": "362ebbca-0a98-45ea-af91-79b05397e5e5",
   "metadata": {},
   "outputs": [],
   "source": []
  },
  {
   "cell_type": "code",
   "execution_count": null,
   "id": "c791b5fa-e797-4204-a9c1-feaad51021c1",
   "metadata": {},
   "outputs": [],
   "source": []
  },
  {
   "cell_type": "code",
   "execution_count": null,
   "id": "e0303ee9-9786-4de6-8852-818c396f97b3",
   "metadata": {},
   "outputs": [],
   "source": []
  }
 ],
 "metadata": {
  "kernelspec": {
   "display_name": "Python 3 (ipykernel)",
   "language": "python",
   "name": "python3"
  },
  "language_info": {
   "codemirror_mode": {
    "name": "ipython",
    "version": 3
   },
   "file_extension": ".py",
   "mimetype": "text/x-python",
   "name": "python",
   "nbconvert_exporter": "python",
   "pygments_lexer": "ipython3",
   "version": "3.11.6"
  }
 },
 "nbformat": 4,
 "nbformat_minor": 5
}
